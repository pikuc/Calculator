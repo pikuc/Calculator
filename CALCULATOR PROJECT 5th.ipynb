{
 "cells": [
  {
   "cell_type": "markdown",
   "id": "b8ba61f7",
   "metadata": {},
   "source": [
    "# Survival Duration Calculator Project\n",
    "\n",
    "Objective:\n",
    "\n",
    "The objective of the project is to calculate the duration of how long a person lived based on his Age.\n",
    "The duration should be calculated in different time units like Months, Weeks, Days, Hours, Minutes,\n",
    "Seconds The input to the application is an Age of a person and the output is expected to calculate the\n",
    "duration of time he lived in different time units as selected by the user.\n",
    "\n",
    "pep8 Coding syntax\n",
    "Logic/models\n",
    "Documention"
   ]
  },
  {
   "cell_type": "code",
   "execution_count": 2,
   "id": "aa1df3d5",
   "metadata": {},
   "outputs": [
    {
     "name": "stdout",
     "output_type": "stream",
     "text": [
      "Enter the age of the person: 30\n",
      "Select the time units for survival duration:\n",
      "1. Months\n",
      "2. Weeks\n",
      "3. Days\n",
      "4. Hours\n",
      "5. Minutes\n",
      "6. Seconds\n",
      "Enter your choice (1-6): 3\n",
      "The person has lived for 2520.00 days.\n"
     ]
    }
   ],
   "source": [
    "# Define conversion factors\n",
    "seconds_in_minute = 60\n",
    "minutes_in_hour = 60\n",
    "hours_in_day = 24\n",
    "days_in_week = 7\n",
    "weeks_in_month = 4.35  # Approximate value\n",
    "months_in_year = 12\n",
    "\n",
    "# Take user input for age\n",
    "age = float(input(\"Enter the age of the person: \"))\n",
    "\n",
    "# Display unit selection menu\n",
    "print(\"Select the time units for survival duration:\")\n",
    "print(\"1. Months\")\n",
    "print(\"2. Weeks\")\n",
    "print(\"3. Days\")\n",
    "print(\"4. Hours\")\n",
    "print(\"5. Minutes\")\n",
    "print(\"6. Seconds\")\n",
    "\n",
    "# Get user's choice\n",
    "choice = int(input(\"Enter your choice (1-6): \"))\n",
    "\n",
    "# Calculate survival duration based on user's choice\n",
    "if choice == 1:\n",
    "    duration = age * months_in_year\n",
    "    unit = \"months\"\n",
    "elif choice == 2:\n",
    "    duration = age * days_in_week * (months_in_year / weeks_in_month)\n",
    "    unit = \"weeks\"\n",
    "elif choice == 3:\n",
    "    duration = age * days_in_week * (months_in_year / weeks_in_month) * weeks_in_month\n",
    "    unit = \"days\"\n",
    "elif choice == 4:\n",
    "    duration = age * days_in_week * (months_in_year / weeks_in_month) * weeks_in_month * hours_in_day\n",
    "    unit = \"hours\"\n",
    "elif choice == 5:\n",
    "    duration = age * days_in_week * (months_in_year / weeks_in_month) * weeks_in_month * hours_in_day * minutes_in_hour\n",
    "    unit = \"minutes\"\n",
    "elif choice == 6:\n",
    "    duration = age * days_in_week * (months_in_year / weeks_in_month) * weeks_in_month * hours_in_day * minutes_in_hour * seconds_in_minute\n",
    "    unit = \"seconds\"\n",
    "else:\n",
    "    print(\"Invalid choice\")\n",
    "    exit()\n",
    "\n",
    "# Display the result\n",
    "print(f\"The person has lived for {duration:.2f} {unit}.\")"
   ]
  },
  {
   "cell_type": "code",
   "execution_count": null,
   "id": "7acc4616",
   "metadata": {},
   "outputs": [],
   "source": []
  }
 ],
 "metadata": {
  "kernelspec": {
   "display_name": "Python 3 (ipykernel)",
   "language": "python",
   "name": "python3"
  },
  "language_info": {
   "codemirror_mode": {
    "name": "ipython",
    "version": 3
   },
   "file_extension": ".py",
   "mimetype": "text/x-python",
   "name": "python",
   "nbconvert_exporter": "python",
   "pygments_lexer": "ipython3",
   "version": "3.11.5"
  }
 },
 "nbformat": 4,
 "nbformat_minor": 5
}
